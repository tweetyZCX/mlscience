{
 "cells": [
  {
   "cell_type": "code",
   "execution_count": 1,
   "metadata": {},
   "outputs": [
    {
     "name": "stderr",
     "output_type": "stream",
     "text": [
      "E:\\Anaconda3\\lib\\site-packages\\sklearn\\cross_validation.py:41: DeprecationWarning: This module was deprecated in version 0.18 in favor of the model_selection module into which all the refactored classes and functions are moved. Also note that the interface of the new CV iterators are different from that of this module. This module will be removed in 0.20.\n",
      "  \"This module will be removed in 0.20.\", DeprecationWarning)\n"
     ]
    },
    {
     "name": "stdout",
     "output_type": "stream",
     "text": [
      "1 weak classifier AdaBoost's accuancy is 0.986567164179\n",
      "2 weak classifier AdaBoost's accuancy is 0.986567164179\n",
      "3 weak classifier is enough to make error=0\n",
      "0.89696969697\n"
     ]
    }
   ],
   "source": [
    "#import os\n",
    "#import numpy as np\n",
    "#import pickle\n",
    "#from PIL import Image\n",
    "#import feature\n",
    "#x=[]\n",
    "#path_face = \"C:/Users/asus/project3/datasets/original/face/\"\n",
    "#for img_face in os.listdir(path_face):\n",
    "#    x.append(feature.NPDFeature.extract(feature.NPDFeature(np.array(Image.open(path_face+img_face).resize((24, 24)).convert('L')))))\n",
    "#path_nonface = \"C:/Users/asus/project3/datasets/original/nonface/\"\n",
    "#for img_nonface in os.listdir(path_nonface):\n",
    "#    x.append(feature.NPDFeature.extract(feature.NPDFeature(np.array(Image.open(path_nonface+img_nonface).resize((24, 24)).convert('L')))))\n",
    "#pickle.dump(np.array(x),open('datasets.pkl','wb'))\n",
    "import numpy as np\n",
    "import pickle\n",
    "import ensemble\n",
    "from sklearn.cross_validation import train_test_split \n",
    "from sklearn.tree import DecisionTreeClassifier\n",
    "x=pickle.load(open('datasets.pkl','rb'))\n",
    "y=np.ones(1000)\n",
    "y[500:999]=-1\n",
    "x_train, x_test, y_train, y_test = train_test_split(x,y,test_size=0.33,random_state=0)\n",
    "DTclf = DecisionTreeClassifier(max_depth=4)\n",
    "ADBTclf=ensemble.AdaBoostClassifier(DTclf,5).fit(x_train,y_train)\n",
    "y_predict=ensemble.AdaBoostClassifier.predict(ADBTclf,x_test,0)\n",
    "print(1-np.sum(y_predict!=y_test)/np.shape(x_test)[0])"
   ]
  }
 ],
 "metadata": {
  "kernelspec": {
   "display_name": "Python 3",
   "language": "python",
   "name": "python3"
  },
  "language_info": {
   "codemirror_mode": {
    "name": "ipython",
    "version": 3
   },
   "file_extension": ".py",
   "mimetype": "text/x-python",
   "name": "python",
   "nbconvert_exporter": "python",
   "pygments_lexer": "ipython3",
   "version": "3.6.3"
  }
 },
 "nbformat": 4,
 "nbformat_minor": 2
}
